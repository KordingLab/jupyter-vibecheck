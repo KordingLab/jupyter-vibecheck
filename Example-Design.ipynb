{
 "cells": [
  {
   "cell_type": "code",
   "execution_count": null,
   "metadata": {},
   "outputs": [],
   "source": [
    "from typing import Callable\n",
    "import datetime\n",
    "\n",
    "from ipywidgets import Button, HBox, Label, VBox, Layout, Output, ButtonStyle, Textarea\n",
    "from IPython.display import display, HTML, Javascript, clear_output\n"
   ]
  },
  {
   "cell_type": "code",
   "execution_count": 90,
   "metadata": {},
   "outputs": [],
   "source": [
    "\n",
    "class ContentReview:\n",
    "    def __init__(self, prompt: str, feedback_callback: Callable[[str, str], bool]):\n",
    "        self._prompt = prompt\n",
    "        self._button_pressed: str = None\n",
    "        self._feedback_callback = feedback_callback\n",
    "\n",
    "    def _submit(self, button_name: str, feedback: str):\n",
    "        self._feedback_callback(button_name, feedback)\n",
    "\n",
    "    def render(self):\n",
    "        happy_button = Button(\n",
    "            tooltip=\"Happy\",\n",
    "            icon=\"smile-o\",\n",
    "            layout=Layout(width=\"auto\", height=\"auto\"),\n",
    "            style=ButtonStyle(button_color=\"#aaffaa\"),\n",
    "        )\n",
    "        happy_button.add_class(\"happy\")\n",
    "\n",
    "        medium_button = Button(\n",
    "            tooltip=\"Medium\",\n",
    "            icon=\"meh-o\",\n",
    "            layout=Layout(width=\"auto\", height=\"auto\"),\n",
    "            style=ButtonStyle(button_color=\"#dddd77\"),\n",
    "        )\n",
    "        medium_button.add_class(\"medium\")\n",
    "\n",
    "        sad_button = Button(\n",
    "            tooltip=\"Sad\",\n",
    "            icon=\"frown-o\",\n",
    "            layout=Layout(width=\"auto\", height=\"auto\"),\n",
    "            style=ButtonStyle(button_color=\"#ffaaaa\"),\n",
    "        )\n",
    "        sad_button.add_class(\"sad\")\n",
    "\n",
    "        feedback_text = Textarea(\n",
    "            placeholder=\"We want your feedback!\",\n",
    "            layout=Layout(width=\"auto\", height=\"auto\"),\n",
    "        )\n",
    "\n",
    "        submit_button = Button(\n",
    "            description=\"Submit\", layout=Layout(width=\"auto\", height=\"auto\")\n",
    "        )\n",
    "\n",
    "        feedback_container = HBox([feedback_text, submit_button])\n",
    "        feedback_container.layout.display = \"none\"\n",
    "\n",
    "        feedback_thanks = Label(\"Thanks for your feedback!\")\n",
    "        feedback_thanks.layout.display = \"none\"\n",
    "\n",
    "        # When you click meh or sad, show the feedback text box\n",
    "        def show_feedback_container_medium(b):\n",
    "            self._button_pressed = \"medium\"\n",
    "            # add border to the button\n",
    "            medium_button.layout.border = \"2px solid #666666\"\n",
    "            feedback_container.layout.display = \"block\"\n",
    "\n",
    "        def show_feedback_container_sad(b):\n",
    "            self._button_pressed = \"sad\"\n",
    "            sad_button.layout.border = \"2px solid #666666\"\n",
    "            feedback_container.layout.display = \"block\"\n",
    "\n",
    "        medium_button.on_click(show_feedback_container_medium)\n",
    "        sad_button.on_click(show_feedback_container_sad)\n",
    "\n",
    "        def _submit_happy_feedback(b):\n",
    "            self._submit(\"happy\", \"\")\n",
    "            happy_button.layout.border = \"2px solid #666666\"\n",
    "            feedback_container.layout.display = \"none\"\n",
    "            feedback_thanks.layout.display = \"block\"\n",
    "\n",
    "        happy_button.on_click(_submit_happy_feedback)\n",
    "\n",
    "        def _submit_unhappy_feedback(b):\n",
    "            self._submit(self._button_pressed, feedback_text.value)\n",
    "            feedback_container.layout.display = \"none\"\n",
    "            feedback_thanks.layout.display = \"block\"\n",
    "\n",
    "        submit_button.on_click(_submit_unhappy_feedback)\n",
    "\n",
    "        return VBox(\n",
    "            [\n",
    "                Label(self._prompt),\n",
    "                HBox([happy_button, medium_button, sad_button]),\n",
    "                feedback_container,\n",
    "                feedback_thanks,\n",
    "            ]\n",
    "        )\n"
   ]
  },
  {
   "cell_type": "code",
   "execution_count": 91,
   "metadata": {},
   "outputs": [],
   "source": [
    "class ContentReviewContainer:\n",
    "\n",
    "    def __init__(self, prompt: str, section_id: str, feedback_callback: Callable[[dict], bool]):\n",
    "        self._prompt = prompt\n",
    "        self._section_id = section_id\n",
    "        self._feedback_callback = feedback_callback\n",
    "        self._content_review = ContentReview(prompt, self._submit)\n",
    "        \n",
    "    def _submit(self, button_name: str, feedback: str):\n",
    "        self._feedback_callback({\n",
    "            \"button_name\": button_name,\n",
    "            \"feedback\": feedback,\n",
    "            \"section_id\": self._section_id,\n",
    "            \"timestamp_utc\":  datetime.datetime.utcnow().isoformat()\n",
    "        })\n",
    "\n",
    "    def render(self):\n",
    "        # return self._content_review.render()\n",
    "        return display(self._content_review.render())\n",
    "    \n",
    "\n",
    "from datatops import Datatops\n",
    "\n",
    "class DatatopsContentReviewContainer(ContentReviewContainer):\n",
    "\n",
    "    def __init__(self, prompt: str, section_id: str, datatops_config: dict):\n",
    "        self._prompt = prompt\n",
    "        self._section_id = section_id\n",
    "        self._content_review = ContentReview(prompt, self._submit)\n",
    "        self._datatops = Datatops(datatops_config['url'])\n",
    "        self._datatops_project = self._datatops.get_project(datatops_config['name'])\n",
    "        super().__init__(prompt, section_id, self._submit)\n",
    "    \n",
    "    def _submit(self, button_name: str, feedback: str):\n",
    "        self._datatops_project.store({\n",
    "            \"button_name\": button_name,\n",
    "            \"feedback\": feedback,\n",
    "            \"section_id\": self._section_id,\n",
    "            \"timestamp_utc\":  datetime.datetime.utcnow().isoformat()\n",
    "        })\n",
    "\n",
    "    "
   ]
  },
  {
   "cell_type": "code",
   "execution_count": 93,
   "metadata": {},
   "outputs": [
    {
     "data": {
      "application/vnd.jupyter.widget-view+json": {
       "model_id": "5e701a29d1e94ea19b11f82937093b16",
       "version_major": 2,
       "version_minor": 0
      },
      "text/plain": [
       "VBox(children=(Label(value='Help us improve the course: How did this explanation of gradient descent feel?'), …"
      ]
     },
     "metadata": {},
     "output_type": "display_data"
    }
   ],
   "source": [
    "ContentReviewContainer(\n",
    "    \"Help us improve the course: How did this explanation of gradient descent feel?\", \"W1D1-GD-Explanation-v1\", \n",
    "    print\n",
    ").render()"
   ]
  },
  {
   "cell_type": "code",
   "execution_count": 86,
   "metadata": {},
   "outputs": [
    {
     "data": {
      "application/vnd.jupyter.widget-view+json": {
       "model_id": "de775cb4d3124efa97d8a58c95551284",
       "version_major": 2,
       "version_minor": 0
      },
      "text/plain": [
       "VBox(children=(Label(value='How did you like this section?'), HBox(children=(Button(icon='smile-o', layout=Lay…"
      ]
     },
     "metadata": {},
     "output_type": "display_data"
    },
    {
     "ename": "Exception",
     "evalue": "Not authorized.",
     "output_type": "error",
     "traceback": [
      "\u001b[0;31m---------------------------------------------------------------------------\u001b[0m",
      "\u001b[0;31mException\u001b[0m                                 Traceback (most recent call last)",
      "Cell \u001b[0;32mIn [62], line 67\u001b[0m, in \u001b[0;36mContentReview.render.<locals>._submit_happy_feedback\u001b[0;34m(b)\u001b[0m\n\u001b[1;32m     66\u001b[0m \u001b[39mdef\u001b[39;00m \u001b[39m_submit_happy_feedback\u001b[39m(b):\n\u001b[0;32m---> 67\u001b[0m     \u001b[39mself\u001b[39;49m\u001b[39m.\u001b[39;49m_submit(\u001b[39m\"\u001b[39;49m\u001b[39mhappy\u001b[39;49m\u001b[39m\"\u001b[39;49m, \u001b[39m\"\u001b[39;49m\u001b[39m\"\u001b[39;49m)\n\u001b[1;32m     68\u001b[0m     feedback_container\u001b[39m.\u001b[39mlayout\u001b[39m.\u001b[39mdisplay \u001b[39m=\u001b[39m \u001b[39m\"\u001b[39m\u001b[39mnone\u001b[39m\u001b[39m\"\u001b[39m\n\u001b[1;32m     69\u001b[0m     feedback_thanks\u001b[39m.\u001b[39mlayout\u001b[39m.\u001b[39mdisplay \u001b[39m=\u001b[39m \u001b[39m\"\u001b[39m\u001b[39mblock\u001b[39m\u001b[39m\"\u001b[39m\n",
      "Cell \u001b[0;32mIn [62], line 12\u001b[0m, in \u001b[0;36mContentReview._submit\u001b[0;34m(self, button_name, feedback)\u001b[0m\n\u001b[1;32m     11\u001b[0m \u001b[39mdef\u001b[39;00m \u001b[39m_submit\u001b[39m(\u001b[39mself\u001b[39m, button_name: \u001b[39mstr\u001b[39m, feedback: \u001b[39mstr\u001b[39m):\n\u001b[0;32m---> 12\u001b[0m     \u001b[39mself\u001b[39;49m\u001b[39m.\u001b[39;49m_feedback_callback(button_name, feedback)\n",
      "Cell \u001b[0;32mIn [82], line 35\u001b[0m, in \u001b[0;36mDatatopsContentReviewContainer._submit\u001b[0;34m(self, button_name, feedback)\u001b[0m\n\u001b[1;32m     34\u001b[0m \u001b[39mdef\u001b[39;00m \u001b[39m_submit\u001b[39m(\u001b[39mself\u001b[39m, button_name: \u001b[39mstr\u001b[39m, feedback: \u001b[39mstr\u001b[39m):\n\u001b[0;32m---> 35\u001b[0m     \u001b[39mself\u001b[39;49m\u001b[39m.\u001b[39;49m_datatops_project\u001b[39m.\u001b[39;49mstore({\n\u001b[1;32m     36\u001b[0m         \u001b[39m\"\u001b[39;49m\u001b[39mbutton_name\u001b[39;49m\u001b[39m\"\u001b[39;49m: button_name,\n\u001b[1;32m     37\u001b[0m         \u001b[39m\"\u001b[39;49m\u001b[39mfeedback\u001b[39;49m\u001b[39m\"\u001b[39;49m: feedback,\n\u001b[1;32m     38\u001b[0m         \u001b[39m\"\u001b[39;49m\u001b[39msection_id\u001b[39;49m\u001b[39m\"\u001b[39;49m: \u001b[39mself\u001b[39;49m\u001b[39m.\u001b[39;49m_section_id,\n\u001b[1;32m     39\u001b[0m         \u001b[39m\"\u001b[39;49m\u001b[39mtimestamp_utc\u001b[39;49m\u001b[39m\"\u001b[39;49m:  datetime\u001b[39m.\u001b[39;49mdatetime\u001b[39m.\u001b[39;49mutcnow()\u001b[39m.\u001b[39;49misoformat()\n\u001b[1;32m     40\u001b[0m     })\n",
      "File \u001b[0;32m~/.pyenv/versions/3.9.7/envs/scripting/lib/python3.9/site-packages/datatops/__init__.py:195\u001b[0m, in \u001b[0;36mProject.store\u001b[0;34m(self, data)\u001b[0m\n\u001b[1;32m    193\u001b[0m     \u001b[39mreturn\u001b[39;00m \u001b[39mTrue\u001b[39;00m\n\u001b[1;32m    194\u001b[0m \u001b[39melse\u001b[39;00m:\n\u001b[0;32m--> 195\u001b[0m     \u001b[39mraise\u001b[39;00m \u001b[39mException\u001b[39;00m(req[\u001b[39m\"\u001b[39m\u001b[39mmessage\u001b[39m\u001b[39m\"\u001b[39m])\n",
      "\u001b[0;31mException\u001b[0m: Not authorized."
     ]
    }
   ],
   "source": [
    "DatatopsContentReviewContainer(\"How did you like this section?\", \"W1D1-GD-Explanation-v1\", {\n",
    "    \"url\": \"https://pmyvdlilci.execute-api.us-east-1.amazonaws.com/klab\",\n",
    "    \"name\": \"cis522_deeplearning_notebooks\",\n",
    "    \"user_key\": \"ABCXYZ\"\n",
    "}).render()"
   ]
  },
  {
   "cell_type": "code",
   "execution_count": null,
   "metadata": {},
   "outputs": [],
   "source": []
  }
 ],
 "metadata": {
  "kernelspec": {
   "display_name": "scripting",
   "language": "python",
   "name": "python3"
  },
  "language_info": {
   "codemirror_mode": {
    "name": "ipython",
    "version": 3
   },
   "file_extension": ".py",
   "mimetype": "text/x-python",
   "name": "python",
   "nbconvert_exporter": "python",
   "pygments_lexer": "ipython3",
   "version": "3.9.7 (default, Nov 16 2021, 13:05:42) \n[Clang 13.0.0 (clang-1300.0.29.3)]"
  },
  "orig_nbformat": 4,
  "vscode": {
   "interpreter": {
    "hash": "410f6db90cc89b666adbd1b755ae7555dd227a2d7c11822f3d377845b87672a4"
   }
  }
 },
 "nbformat": 4,
 "nbformat_minor": 2
}
