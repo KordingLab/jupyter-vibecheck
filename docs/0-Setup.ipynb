{
 "cells": [
  {
   "cell_type": "code",
   "execution_count": null,
   "metadata": {},
   "outputs": [],
   "source": [
    "!pip3 install datatops"
   ]
  },
  {
   "attachments": {},
   "cell_type": "markdown",
   "metadata": {},
   "source": [
    "Datatops is a write-only database that is ideal for behavior studies, surveys, and feedback forms with a central reviewer.\n",
    "\n",
    "The Python library can be used to create new projects — as we'll do here — as well as to write new data to the database.\n",
    "\n",
    "You can read more about datatops on the GitHub homepage:\n",
    "\n",
    "https://github.com/datatops/datatops\n",
    "\n",
    "We'll only need to run this notebook once, and then we can write data to the project over and over.\n",
    "\n",
    "---\n",
    "\n",
    "> **Note that the code below requires a secret key to create a new database. You are welcome to use the shared database we've created; if you would like to create your own projects, you can either host your own Datatops server (see URL above) or request the key for our (free for academic use) server from [Jordan Matelsky at datatops@matelsky.com](mailto:datatops@matelsky.com).**\n",
    "\n",
    "---"
   ]
  },
  {
   "cell_type": "code",
   "execution_count": 1,
   "metadata": {},
   "outputs": [],
   "source": [
    "from datatops import Datatops\n",
    "from getpass import getpass\n",
    "\n",
    "dt_url = \"https://pmyvdlilci.execute-api.us-east-1.amazonaws.com/klab/\"\n",
    "\n",
    "dt = Datatops(dt_url)\n",
    "project = dt.create_project(\"public_testbed\", project_creation_secret=getpass())"
   ]
  },
  {
   "attachments": {},
   "cell_type": "markdown",
   "metadata": {},
   "source": [
    "The cell below is private information — do NOT share the `admin_key` unless you want people to have READ/WRITE/DELETE access to your database!\n",
    "\n",
    "That said... keep a copy of this informaton; you'll need the `user_key` so users can write their responses, and you'll need the `admin_key` so that you can read them."
   ]
  },
  {
   "cell_type": "code",
   "execution_count": 2,
   "metadata": {},
   "outputs": [
    {
     "data": {
      "text/plain": [
       "Project({\n",
       "    \"name\": \"public_testbed\",\n",
       "    \"admin_key\": \"a-f87528a5-e8cb-4a54-a338-b5e7c9c41249\",\n",
       "    \"user_key\": \"3zg0t05r\",\n",
       "    \"url\": \"https://pmyvdlilci.execute-api.us-east-1.amazonaws.com/klab/\"\n",
       "})"
      ]
     },
     "execution_count": 2,
     "metadata": {},
     "output_type": "execute_result"
    }
   ],
   "source": [
    "project"
   ]
  },
  {
   "cell_type": "code",
   "execution_count": null,
   "metadata": {},
   "outputs": [],
   "source": []
  }
 ],
 "metadata": {
  "kernelspec": {
   "display_name": "scripting",
   "language": "python",
   "name": "python3"
  },
  "language_info": {
   "codemirror_mode": {
    "name": "ipython",
    "version": 3
   },
   "file_extension": ".py",
   "mimetype": "text/x-python",
   "name": "python",
   "nbconvert_exporter": "python",
   "pygments_lexer": "ipython3",
   "version": "3.9.7"
  },
  "orig_nbformat": 4
 },
 "nbformat": 4,
 "nbformat_minor": 2
}
