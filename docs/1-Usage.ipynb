{
 "cells": [
  {
   "attachments": {},
   "cell_type": "markdown",
   "metadata": {},
   "source": [
    "# Usage\n",
    "\n",
    "This document shows you how to use `vibecheck` in your Jupyter notebooks. Unlike `0-Setup.ipynb`, verything in this document can be shared publicly, and we encourage you to use this as a template for your own student-facing notebooks.\n",
    "\n",
    "At the top of the notebook you should install and import the libraries:"
   ]
  },
  {
   "cell_type": "code",
   "execution_count": 6,
   "metadata": {},
   "outputs": [],
   "source": [
    "!pip3 install vibecheck datatops\n",
    "# Or do it this way to suppress output:\n",
    "# !pip3 install vibecheck datatops > /dev/null 2> /dev/null\n",
    "\n",
    "from vibecheck import DatatopsContentReviewContainer"
   ]
  },
  {
   "attachments": {},
   "cell_type": "markdown",
   "metadata": {},
   "source": [
    "We also like to create a simple function that you can call to instantiate a widget easily anywhere in your notebook:"
   ]
  },
  {
   "cell_type": "code",
   "execution_count": 2,
   "metadata": {},
   "outputs": [],
   "source": [
    "def content_review(notebook_section: str):\n",
    "    return DatatopsContentReviewContainer(\n",
    "        \"\",  # No text prompt\n",
    "        notebook_section,\n",
    "        {\n",
    "            \"url\": \"https://pmyvdlilci.execute-api.us-east-1.amazonaws.com/klab\",\n",
    "            \"name\": \"public_testbed\",\n",
    "            \"user_key\": \"3zg0t05r\",\n",
    "        },\n",
    "    ).render()\n"
   ]
  },
  {
   "attachments": {},
   "cell_type": "markdown",
   "metadata": {},
   "source": [
    "Now you can use the following structure anywhere in your notebook (see below).\n",
    "\n",
    "* If the user clicks the \"happy\" face, feedback is submitted automatically.\n",
    "* If the user clicks the \"meh\" or \"sad\" face, a text box appears where they can enter feedback before submitting."
   ]
  },
  {
   "cell_type": "code",
   "execution_count": 3,
   "metadata": {},
   "outputs": [
    {
     "data": {
      "application/vnd.jupyter.widget-view+json": {
       "model_id": "2595473467394a39bca5c1fa4fd44caa",
       "version_major": 2,
       "version_minor": 0
      },
      "text/plain": [
       "VBox(children=(HBox(children=(Button(description='🙂', layout=Layout(height='auto', padding='0.5em', width='aut…"
      ]
     },
     "metadata": {},
     "output_type": "display_data"
    }
   ],
   "source": [
    "content_review(\"Learning Datatops\")"
   ]
  },
  {
   "attachments": {},
   "cell_type": "markdown",
   "metadata": {},
   "source": [
    "In Jupyter servers like Google Colab, you can prefix a cell with the following string to hide the code and just show the widget:\n",
    "\n",
    "```python\n",
    "# @markdown\n",
    "```\n",
    "\n",
    "For example:"
   ]
  },
  {
   "cell_type": "code",
   "execution_count": 7,
   "metadata": {},
   "outputs": [
    {
     "data": {
      "application/vnd.jupyter.widget-view+json": {
       "model_id": "3f7f1279e3414b19b5fbeebee825d5e9",
       "version_major": 2,
       "version_minor": 0
      },
      "text/plain": [
       "VBox(children=(HBox(children=(Button(description='🙂', layout=Layout(height='auto', padding='0.5em', width='aut…"
      ]
     },
     "metadata": {},
     "output_type": "display_data"
    }
   ],
   "source": [
    "# @markdown ---\n",
    "content_review(\"Using Markdown Notation\")"
   ]
  },
  {
   "attachments": {},
   "cell_type": "markdown",
   "metadata": {},
   "source": [
    "Note that we encourage you to \"namespace\" your notebook section names so that you can distinguish between responses from different notebooks or different versions. For example, above, we used the \"Learning Datatops\" title; if another notebook in our curriculum contains the same section, we want to be able to distinguish between the two. We can do this by prepending the notebook name to the section name:"
   ]
  },
  {
   "cell_type": "code",
   "execution_count": 5,
   "metadata": {},
   "outputs": [
    {
     "data": {
      "application/vnd.jupyter.widget-view+json": {
       "model_id": "d96e6b10749d450c81720a0cfc37a01d",
       "version_major": 2,
       "version_minor": 0
      },
      "text/plain": [
       "VBox(children=(HBox(children=(Button(description='🙂', layout=Layout(height='auto', padding='0.5em', width='aut…"
      ]
     },
     "metadata": {},
     "output_type": "display_data"
    }
   ],
   "source": [
    "content_review(\"Datatops-Usage/Spring2023/UsingNamespaces\")"
   ]
  },
  {
   "attachments": {},
   "cell_type": "markdown",
   "metadata": {},
   "source": [
    "Because these names are just strings, you can use any naming convention you like. For example, you could use the notebook's filename:\n",
    "\n",
    "```python\n",
    "content_review(\"github.com/kordinglab/vibecheck:docs/1-Usage.ipynb --- Using different namespaces\")\n",
    "```\n",
    "\n",
    "Note that if you're running this notebook in a Jupyter kernel, all of these widgets are interactive; feel free to use them to suggest improvements to our documentation!"
   ]
  }
 ],
 "metadata": {
  "kernelspec": {
   "display_name": "scripting",
   "language": "python",
   "name": "python3"
  },
  "language_info": {
   "codemirror_mode": {
    "name": "ipython",
    "version": 3
   },
   "file_extension": ".py",
   "mimetype": "text/x-python",
   "name": "python",
   "nbconvert_exporter": "python",
   "pygments_lexer": "ipython3",
   "version": "3.9.7"
  }
 },
 "nbformat": 4,
 "nbformat_minor": 2
}
